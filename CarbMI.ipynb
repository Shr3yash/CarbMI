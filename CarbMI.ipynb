{
  "nbformat": 4,
  "nbformat_minor": 0,
  "metadata": {
    "colab": {
      "provenance": [],
      "authorship_tag": "ABX9TyM8gMw7m/bgOPJN6knbsyXb",
      "include_colab_link": true
    },
    "kernelspec": {
      "name": "python3",
      "display_name": "Python 3"
    },
    "language_info": {
      "name": "python"
    }
  },
  "cells": [
    {
      "cell_type": "markdown",
      "metadata": {
        "id": "view-in-github",
        "colab_type": "text"
      },
      "source": [
        "<a href=\"https://colab.research.google.com/github/Shr3yash/CarbMI/blob/main/CarbMI.ipynb\" target=\"_parent\"><img src=\"https://colab.research.google.com/assets/colab-badge.svg\" alt=\"Open In Colab\"/></a>"
      ]
    },
    {
      "cell_type": "code",
      "execution_count": null,
      "metadata": {
        "id": "vJJWp_6tHl2q"
      },
      "outputs": [],
      "source": []
    },
    {
      "cell_type": "code",
      "source": [
        "import pandas as pd\n",
        "import numpy as np\n",
        "import matplotlib.pyplot as plt\n",
        "import seaborn as sns\n",
        "from sklearn.model_selection import train_test_split\n",
        "from sklearn.linear_model import LinearRegression\n",
        "from sklearn.metrics import mean_squared_error, r2_score"
      ],
      "metadata": {
        "id": "NCZth8MoHrb-"
      },
      "execution_count": 1,
      "outputs": []
    },
    {
      "cell_type": "code",
      "source": [
        "np.random.seed(42)\n",
        "data_size = 500\n",
        "bmi = np.random.normal(25, 5, data_size)  # Simulated BMI data\n",
        "carb_intake = np.random.normal(50, 10, data_size)  # Simulated carb intake in grams\n",
        "performance = 50 + (carb_intake * 0.5) - (bmi * 0.2) + np.random.normal(0, 5, data_size)  # Simulated performance metric"
      ],
      "metadata": {
        "id": "zXMW_vZUHsgn"
      },
      "execution_count": 2,
      "outputs": []
    }
  ]
}